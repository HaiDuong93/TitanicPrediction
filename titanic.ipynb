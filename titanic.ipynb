{
 "cells": [
  {
   "cell_type": "code",
   "execution_count": 549,
   "metadata": {},
   "outputs": [],
   "source": [
    "# import necessary libraries\n",
    "import pandas as pd\n",
    "import seaborn as sns\n",
    "import matplotlib.pyplot as plt\n",
    "import numpy as np\n",
    "\n",
    "from sklearn.preprocessing import OneHotEncoder, LabelEncoder\n",
    "\n",
    "from sklearn.model_selection import train_test_split, cross_val_score, KFold, GridSearchCV\n",
    "from sklearn.model_selection import cross_val_score\n",
    "from sklearn.metrics import accuracy_score\n",
    "from sklearn.metrics import precision_score\n",
    "from sklearn.metrics import recall_score\n",
    "\n",
    "from sklearn.preprocessing import FunctionTransformer, OneHotEncoder\n",
    "from sklearn.compose import ColumnTransformer\n",
    "\n",
    "from sklearn.pipeline import Pipeline\n",
    "from sklearn.base import TransformerMixin,BaseEstimator\n",
    "\n",
    "from sklearn.linear_model import LogisticRegression\n",
    "from sklearn.naive_bayes import GaussianNB\n",
    "from sklearn.tree import DecisionTreeClassifier\n",
    "from sklearn.svm import SVR, LinearSVC\n",
    "from sklearn.neighbors import KNeighborsClassifier\n",
    "from sklearn.ensemble import RandomForestClassifier\n",
    "import xgboost as xgb\n",
    "\n",
    "import warnings\n",
    "warnings.filterwarnings(\"ignore\")"
   ]
  },
  {
   "cell_type": "markdown",
   "metadata": {},
   "source": [
    "# Import data"
   ]
  },
  {
   "cell_type": "code",
   "execution_count": 550,
   "metadata": {},
   "outputs": [],
   "source": [
    "data = pd.read_csv('C:\\\\Users\\\\Admin\\\\Desktop\\\\titanic\\\\train.csv')"
   ]
  },
  {
   "cell_type": "markdown",
   "metadata": {},
   "source": [
    "# 1. Data overview"
   ]
  },
  {
   "cell_type": "code",
   "execution_count": 551,
   "metadata": {},
   "outputs": [
    {
     "name": "stdout",
     "output_type": "stream",
     "text": [
      "<class 'pandas.core.frame.DataFrame'>\n",
      "RangeIndex: 891 entries, 0 to 890\n",
      "Data columns (total 12 columns):\n",
      "PassengerId    891 non-null int64\n",
      "Survived       891 non-null int64\n",
      "Pclass         891 non-null int64\n",
      "Name           891 non-null object\n",
      "Sex            891 non-null object\n",
      "Age            714 non-null float64\n",
      "SibSp          891 non-null int64\n",
      "Parch          891 non-null int64\n",
      "Ticket         891 non-null object\n",
      "Fare           891 non-null float64\n",
      "Cabin          204 non-null object\n",
      "Embarked       889 non-null object\n",
      "dtypes: float64(2), int64(5), object(5)\n",
      "memory usage: 83.7+ KB\n"
     ]
    },
    {
     "data": {
      "text/plain": [
       "PassengerId      0\n",
       "Survived         0\n",
       "Pclass           0\n",
       "Name             0\n",
       "Sex              0\n",
       "Age            177\n",
       "SibSp            0\n",
       "Parch            0\n",
       "Ticket           0\n",
       "Fare             0\n",
       "Cabin          687\n",
       "Embarked         2\n",
       "dtype: int64"
      ]
     },
     "execution_count": 551,
     "metadata": {},
     "output_type": "execute_result"
    },
    {
     "data": {
      "image/png": "[encoded data removed]",
      "text/plain": [
       "<Figure size 432x288 with 1 Axes>"
      ]
     },
     "metadata": {},
     "output_type": "display_data"
    }
   ],
   "source": [
    "data.info()\n",
    "sns.heatmap(data.isnull(), cbar=False)\n",
    "data.isnull().sum()"
   ]
  },
  {
   "cell_type": "markdown",
   "metadata": {},
   "source": [
    "## Data variable describe\n",
    "* Survived : survival ( 0 = No, 1 = Yes)\n",
    "* Pclass: Ticket class ( 1 = 1st, 2 = 2nd, 3 = 3rd)\n",
    "* Sex : gender\n",
    "* Age : Age in years\n",
    "* Sibsp : number of siblings/spouses aboard Titanic\n",
    "* Parch : number of parents/children aboard Titanic\n",
    "* Ticket: ticket number\n",
    "* Fare : passenger fare\n",
    "* Cabin : cabin number\n",
    "* Embarked: port of Embarkation"
   ]
  },
  {
   "cell_type": "code",
   "execution_count": 552,
   "metadata": {
    "scrolled": true
   },
   "outputs": [
    {
     "data": {
      "text/html": [
       "<div>\n",
       "<style scoped>\n",
       "    .dataframe tbody tr th:only-of-type {\n",
       "        vertical-align: middle;\n",
       "    }\n",
       "\n",
       "    .dataframe tbody tr th {\n",
       "        vertical-align: top;\n",
       "    }\n",
       "\n",
       "    .dataframe thead th {\n",
       "        text-align: right;\n",
       "    }\n",
       "</style>\n",
       "<table border=\"1\" class=\"dataframe\">\n",
       "  <thead>\n",
       "    <tr style=\"text-align: right;\">\n",
       "      <th></th>\n",
       "      <th>PassengerId</th>\n",
       "      <th>Survived</th>\n",
       "      <th>Pclass</th>\n",
       "      <th>Age</th>\n",
       "      <th>SibSp</th>\n",
       "      <th>Parch</th>\n",
       "      <th>Fare</th>\n",
       "    </tr>\n",
       "  </thead>\n",
       "  <tbody>\n",
       "    <tr>\n",
       "      <th>count</th>\n",
       "      <td>891.000000</td>\n",
       "      <td>891.000000</td>\n",
       "      <td>891.000000</td>\n",
       "      <td>714.000000</td>\n",
       "      <td>891.000000</td>\n",
       "      <td>891.000000</td>\n",
       "      <td>891.000000</td>\n",
       "    </tr>\n",
       "    <tr>\n",
       "      <th>mean</th>\n",
       "      <td>446.000000</td>\n",
       "      <td>0.383838</td>\n",
       "      <td>2.308642</td>\n",
       "      <td>29.699118</td>\n",
       "      <td>0.523008</td>\n",
       "      <td>0.381594</td>\n",
       "      <td>32.204208</td>\n",
       "    </tr>\n",
       "    <tr>\n",
       "      <th>std</th>\n",
       "      <td>257.353842</td>\n",
       "      <td>0.486592</td>\n",
       "      <td>0.836071</td>\n",
       "      <td>14.526497</td>\n",
       "      <td>1.102743</td>\n",
       "      <td>0.806057</td>\n",
       "      <td>49.693429</td>\n",
       "    </tr>\n",
       "    <tr>\n",
       "      <th>min</th>\n",
       "      <td>1.000000</td>\n",
       "      <td>0.000000</td>\n",
       "      <td>1.000000</td>\n",
       "      <td>0.420000</td>\n",
       "      <td>0.000000</td>\n",
       "      <td>0.000000</td>\n",
       "      <td>0.000000</td>\n",
       "    </tr>\n",
       "    <tr>\n",
       "      <th>25%</th>\n",
       "      <td>223.500000</td>\n",
       "      <td>0.000000</td>\n",
       "      <td>2.000000</td>\n",
       "      <td>20.125000</td>\n",
       "      <td>0.000000</td>\n",
       "      <td>0.000000</td>\n",
       "      <td>7.910400</td>\n",
       "    </tr>\n",
       "    <tr>\n",
       "      <th>50%</th>\n",
       "      <td>446.000000</td>\n",
       "      <td>0.000000</td>\n",
       "      <td>3.000000</td>\n",
       "      <td>28.000000</td>\n",
       "      <td>0.000000</td>\n",
       "      <td>0.000000</td>\n",
       "      <td>14.454200</td>\n",
       "    </tr>\n",
       "    <tr>\n",
       "      <th>75%</th>\n",
       "      <td>668.500000</td>\n",
       "      <td>1.000000</td>\n",
       "      <td>3.000000</td>\n",
       "      <td>38.000000</td>\n",
       "      <td>1.000000</td>\n",
       "      <td>0.000000</td>\n",
       "      <td>31.000000</td>\n",
       "    </tr>\n",
       "    <tr>\n",
       "      <th>max</th>\n",
       "      <td>891.000000</td>\n",
       "      <td>1.000000</td>\n",
       "      <td>3.000000</td>\n",
       "      <td>80.000000</td>\n",
       "      <td>8.000000</td>\n",
       "      <td>6.000000</td>\n",
       "      <td>512.329200</td>\n",
       "    </tr>\n",
       "  </tbody>\n",
       "</table>\n",
       "</div>"
      ],
      "text/plain": [
       "       PassengerId    Survived      Pclass         Age       SibSp  \\\n",
       "count   891.000000  891.000000  891.000000  714.000000  891.000000   \n",
       "mean    446.000000    0.383838    2.308642   29.699118    0.523008   \n",
       "std     257.353842    0.486592    0.836071   14.526497    1.102743   \n",
       "min       1.000000    0.000000    1.000000    0.420000    0.000000   \n",
       "25%     223.500000    0.000000    2.000000   20.125000    0.000000   \n",
       "50%     446.000000    0.000000    3.000000   28.000000    0.000000   \n",
       "75%     668.500000    1.000000    3.000000   38.000000    1.000000   \n",
       "max     891.000000    1.000000    3.000000   80.000000    8.000000   \n",
       "\n",
       "            Parch        Fare  \n",
       "count  891.000000  891.000000  \n",
       "mean     0.381594   32.204208  \n",
       "std      0.806057   49.693429  \n",
       "min      0.000000    0.000000  \n",
       "25%      0.000000    7.910400  \n",
       "50%      0.000000   14.454200  \n",
       "75%      0.000000   31.000000  \n",
       "max      6.000000  512.329200  "
      ]
     },
     "execution_count": 552,
     "metadata": {},
     "output_type": "execute_result"
    }
   ],
   "source": [
    "data.describe()"
   ]
  },
  {
   "cell_type": "code",
   "execution_count": 553,
   "metadata": {},
   "outputs": [
    {
     "data": {
      "text/plain": [
       "15"
      ]
     },
     "execution_count": 553,
     "metadata": {},
     "output_type": "execute_result"
    }
   ],
   "source": [
    "data.loc[data['Fare'] == 0,'Fare'].count()"
   ]
  },
  {
   "cell_type": "markdown",
   "metadata": {},
   "source": [
    "**Conclustion:**\n",
    "* **Age, Cabin, Embarked** have missing value.\n",
    "* Dataset's shape (891,12)\n",
    "* **Fare** have 15 rows having 0 value, we need to handle these value.\n",
    "* The missing value have no pattern"
   ]
  },
  {
   "cell_type": "markdown",
   "metadata": {},
   "source": [
    "# 2. Explorated Data Analysis"
   ]
  },
  {
   "cell_type": "code",
   "execution_count": 554,
   "metadata": {},
   "outputs": [
    {
     "data": {
      "text/plain": [
       "<matplotlib.axes._subplots.AxesSubplot at 0x21f0dd6ea90>"
      ]
     },
     "execution_count": 554,
     "metadata": {},
     "output_type": "execute_result"
    },
    {
     "data": {
      "image/png": "[encoded data removed]",
      "text/plain": [
       "<Figure size 864x864 with 6 Axes>"
      ]
     },
     "metadata": {},
     "output_type": "display_data"
    }
   ],
   "source": [
    "fig , ax = plt.subplots(2,3, figsize = (12,12), sharey=True)\n",
    "sns.countplot(x='Survived', data=data, ax=ax[0,0])\n",
    "sns.countplot(x='Pclass', data=data, ax=ax[0,1])\n",
    "sns.countplot(x='Sex', data=data, ax=ax[0,2])\n",
    "sns.countplot(x='Survived', data=data, ax=ax[1,0])\n",
    "sns.countplot(x='Pclass', data=data, hue='Survived', ax=ax[1,1])\n",
    "sns.countplot(x='Sex', data=data, hue='Survived', ax=ax[1,2])"
   ]
  },
  {
   "cell_type": "markdown",
   "metadata": {},
   "source": [
    "**Conclusion**\n",
    "* Class 3 have higher probability of dead than other class.\n",
    "* Male have higher probability of dead than female"
   ]
  },
  {
   "cell_type": "code",
   "execution_count": 555,
   "metadata": {
    "scrolled": true
   },
   "outputs": [
    {
     "data": {
      "text/plain": [
       "<seaborn.axisgrid.FacetGrid at 0x21f0e13a588>"
      ]
     },
     "execution_count": 555,
     "metadata": {},
     "output_type": "execute_result"
    },
    {
     "data": {
      "image/png": "[encoded data removed]",
      "text/plain": [
       "<Figure size 864x216 with 1 Axes>"
      ]
     },
     "metadata": {},
     "output_type": "display_data"
    }
   ],
   "source": [
    "sns.set()\n",
    "facet = sns.FacetGrid(data=data, hue='Survived', aspect = 4)\n",
    "facet.map(sns.kdeplot, 'Age', shade=True)\n",
    "facet.set(xlim=(0, data['Age'].max()), title=\"KDE of Age\")"
   ]
  },
  {
   "cell_type": "markdown",
   "metadata": {},
   "source": [
    "**Conclusion**\n",
    "* For Age in (0:13), (30:40) The probability of surviving is higher\n",
    "* For Age in (13:30), (40:80), The probability of dead is lightly higher."
   ]
  },
  {
   "cell_type": "code",
   "execution_count": 556,
   "metadata": {},
   "outputs": [],
   "source": [
    "def combine_age(data):\n",
    "    '''Combine age into categories\n",
    "    Argument:\n",
    "    data : dataset\n",
    "    \n",
    "    Ouput : dataset with new age value\n",
    "            (0:13)  : 0\n",
    "            (13:30) : 1\n",
    "            (30:40) : 2\n",
    "            (40:80) : 3\n",
    "    '''\n",
    "    \n",
    "    data.loc[(data['Age'] > 0)  & (data['Age'] <= 13), 'Age'] = 0\n",
    "    data.loc[(data['Age'] > 13) & (data['Age'] <= 30), 'Age'] = 1\n",
    "    data.loc[(data['Age'] > 30) & (data['Age'] <= 40), 'Age'] = 2\n",
    "    data.loc[(data['Age'] > 40)                      , 'Age'] = 3 \n",
    "    \n",
    "    return data"
   ]
  },
  {
   "cell_type": "code",
   "execution_count": 557,
   "metadata": {},
   "outputs": [
    {
     "data": {
      "text/plain": [
       "<seaborn.axisgrid.FacetGrid at 0x21f0e13ae10>"
      ]
     },
     "execution_count": 557,
     "metadata": {},
     "output_type": "execute_result"
    },
    {
     "data": {
      "image/png": "[encoded data removed]",
      "text/plain": [
       "<Figure size 696.425x216 with 1 Axes>"
      ]
     },
     "metadata": {},
     "output_type": "display_data"
    }
   ],
   "source": [
    "sns.set()\n",
    "facet = sns.FacetGrid(data=data, hue='Survived', aspect = 3)\n",
    "facet.map(sns.kdeplot, 'Fare', shade =True)\n",
    "facet.set(xlim=(0, 150), title=\"KDE of Fare\")\n",
    "facet.add_legend()"
   ]
  },
  {
   "cell_type": "markdown",
   "metadata": {},
   "source": [
    "**Conclusion**\n",
    "* For Fare in (0:16), the dead probability is higher.\n",
    "* Fore Fare in (16:30), the surviving probability is higher.\n",
    "* Fore Fare in (30:90), the surviving probability is higher.\n",
    "* Fore Fare in (90:max), we consider them sensitive observations."
   ]
  },
  {
   "cell_type": "code",
   "execution_count": 558,
   "metadata": {},
   "outputs": [],
   "source": [
    "def combine_fare(data):\n",
    "    '''Combine Fare into categories \n",
    "    \n",
    "    Argument:\n",
    "    data : dataset\n",
    "    \n",
    "    Ouput : dataset with new age value\n",
    "            (0:16)  : 0\n",
    "            (16:30) : 1\n",
    "            (30:90) : 2\n",
    "            (90:max): 3'''\n",
    "    \n",
    "    data.loc[(data['Fare'] > 0)  & (data['Fare'] <= 16), 'Fare'] = 0\n",
    "    data.loc[(data['Fare'] > 16) & (data['Fare'] <= 30), 'Fare'] = 1\n",
    "    data.loc[(data['Fare'] > 30) & (data['Fare'] <= 90), 'Fare'] = 2\n",
    "    data.loc[(data['Fare'] > 90)                       , 'Fare'] = 3\n",
    "    \n",
    "    return data"
   ]
  },
  {
   "cell_type": "code",
   "execution_count": 559,
   "metadata": {},
   "outputs": [
    {
     "data": {
      "text/plain": [
       "[Text(0.5, 1.0, 'Parch vs Survived')]"
      ]
     },
     "execution_count": 559,
     "metadata": {},
     "output_type": "execute_result"
    },
    {
     "data": {
      "image/png": "[encoded data removed]",
      "text/plain": [
       "<Figure size 864x864 with 4 Axes>"
      ]
     },
     "metadata": {},
     "output_type": "display_data"
    }
   ],
   "source": [
    "fig , ax = plt.subplots(2,2, figsize = (12,12), sharey=True)\n",
    "\n",
    "sns.countplot(x='SibSp', data=data, ax=ax[0,0])\n",
    "ax[0,0].set(title = 'SibSp')\n",
    "\n",
    "sns.countplot(x='Parch', data=data, ax=ax[0,1])\n",
    "ax[0,1].set(title = 'Parch')\n",
    "\n",
    "sns.countplot(x='SibSp', data=data, hue = 'Survived', ax=ax[1,0])\n",
    "ax[1,0].set(title = 'SibSp vs Survived')\n",
    "\n",
    "sns.countplot(x='Parch', data=data, hue = 'Survived', ax=ax[1,1])\n",
    "ax[1,1].set(title = 'Parch vs Survived')"
   ]
  },
  {
   "cell_type": "markdown",
   "metadata": {},
   "source": [
    "**Conclusion**\n",
    "* For the SibSp variable, value 0, 1 hold huge shares of SibSp. So we will combine all other value into one category.\n",
    "* For the Parch variable, value 0,1,2 hold huge shares of Parch. So we will combine all other value into one category."
   ]
  },
  {
   "cell_type": "code",
   "execution_count": 560,
   "metadata": {},
   "outputs": [],
   "source": [
    "def combine_SibSp_Parch(data):\n",
    "    '''Combine SibSp and Parch.'''\n",
    "    \n",
    "    data.loc[(data['SibSp'] > 1), 'SibSp'] = 2\n",
    "    data.loc[(data['Parch'] > 3), 'Parch'] = 3\n",
    "    \n",
    "    return data    "
   ]
  },
  {
   "cell_type": "code",
   "execution_count": 561,
   "metadata": {},
   "outputs": [],
   "source": [
    "data = combine_SibSp_Parch(data)"
   ]
  },
  {
   "cell_type": "code",
   "execution_count": 562,
   "metadata": {},
   "outputs": [
    {
     "data": {
      "text/plain": [
       "<matplotlib.axes._subplots.AxesSubplot at 0x21f0ba0a860>"
      ]
     },
     "execution_count": 562,
     "metadata": {},
     "output_type": "execute_result"
    },
    {
     "data": {
      "image/png": "[encoded data removed]",
      "text/plain": [
       "<Figure size 432x288 with 1 Axes>"
      ]
     },
     "metadata": {},
     "output_type": "display_data"
    }
   ],
   "source": [
    "sns.countplot(x='Embarked', data = data)"
   ]
  },
  {
   "cell_type": "markdown",
   "metadata": {},
   "source": [
    "**Conclusion** : \n",
    "* Most of passengers start from S port.\n",
    "* We can replace the missing value with this value."
   ]
  },
  {
   "cell_type": "markdown",
   "metadata": {},
   "source": [
    "**For the Name, Ticket variable, there're some interesting information we can extract from these two variables.**\n",
    "* Name contain title Mr/Miss/Mrs that is may more informative then sex variable.\n",
    "* Ticket can group people that come together from that, we can caculate the number of people come together. We also can compute the number of people travel together by using SibSp, Parch, but there are some case, people travelling together aren't relative like below example."
   ]
  },
  {
   "cell_type": "code",
   "execution_count": 563,
   "metadata": {},
   "outputs": [
    {
     "data": {
      "text/html": [
       "<div>\n",
       "<style scoped>\n",
       "    .dataframe tbody tr th:only-of-type {\n",
       "        vertical-align: middle;\n",
       "    }\n",
       "\n",
       "    .dataframe tbody tr th {\n",
       "        vertical-align: top;\n",
       "    }\n",
       "\n",
       "    .dataframe thead th {\n",
       "        text-align: right;\n",
       "    }\n",
       "</style>\n",
       "<table border=\"1\" class=\"dataframe\">\n",
       "  <thead>\n",
       "    <tr style=\"text-align: right;\">\n",
       "      <th></th>\n",
       "      <th>PassengerId</th>\n",
       "      <th>Survived</th>\n",
       "      <th>Pclass</th>\n",
       "      <th>Name</th>\n",
       "      <th>Sex</th>\n",
       "      <th>Age</th>\n",
       "      <th>SibSp</th>\n",
       "      <th>Parch</th>\n",
       "      <th>Ticket</th>\n",
       "      <th>Fare</th>\n",
       "      <th>Cabin</th>\n",
       "      <th>Embarked</th>\n",
       "    </tr>\n",
       "  </thead>\n",
       "  <tbody>\n",
       "    <tr>\n",
       "      <th>74</th>\n",
       "      <td>75</td>\n",
       "      <td>1</td>\n",
       "      <td>3</td>\n",
       "      <td>Bing, Mr. Lee</td>\n",
       "      <td>male</td>\n",
       "      <td>32.0</td>\n",
       "      <td>0</td>\n",
       "      <td>0</td>\n",
       "      <td>1601</td>\n",
       "      <td>56.4958</td>\n",
       "      <td>NaN</td>\n",
       "      <td>S</td>\n",
       "    </tr>\n",
       "    <tr>\n",
       "      <th>169</th>\n",
       "      <td>170</td>\n",
       "      <td>0</td>\n",
       "      <td>3</td>\n",
       "      <td>Ling, Mr. Lee</td>\n",
       "      <td>male</td>\n",
       "      <td>28.0</td>\n",
       "      <td>0</td>\n",
       "      <td>0</td>\n",
       "      <td>1601</td>\n",
       "      <td>56.4958</td>\n",
       "      <td>NaN</td>\n",
       "      <td>S</td>\n",
       "    </tr>\n",
       "    <tr>\n",
       "      <th>509</th>\n",
       "      <td>510</td>\n",
       "      <td>1</td>\n",
       "      <td>3</td>\n",
       "      <td>Lang, Mr. Fang</td>\n",
       "      <td>male</td>\n",
       "      <td>26.0</td>\n",
       "      <td>0</td>\n",
       "      <td>0</td>\n",
       "      <td>1601</td>\n",
       "      <td>56.4958</td>\n",
       "      <td>NaN</td>\n",
       "      <td>S</td>\n",
       "    </tr>\n",
       "    <tr>\n",
       "      <th>643</th>\n",
       "      <td>644</td>\n",
       "      <td>1</td>\n",
       "      <td>3</td>\n",
       "      <td>Foo, Mr. Choong</td>\n",
       "      <td>male</td>\n",
       "      <td>NaN</td>\n",
       "      <td>0</td>\n",
       "      <td>0</td>\n",
       "      <td>1601</td>\n",
       "      <td>56.4958</td>\n",
       "      <td>NaN</td>\n",
       "      <td>S</td>\n",
       "    </tr>\n",
       "    <tr>\n",
       "      <th>692</th>\n",
       "      <td>693</td>\n",
       "      <td>1</td>\n",
       "      <td>3</td>\n",
       "      <td>Lam, Mr. Ali</td>\n",
       "      <td>male</td>\n",
       "      <td>NaN</td>\n",
       "      <td>0</td>\n",
       "      <td>0</td>\n",
       "      <td>1601</td>\n",
       "      <td>56.4958</td>\n",
       "      <td>NaN</td>\n",
       "      <td>S</td>\n",
       "    </tr>\n",
       "    <tr>\n",
       "      <th>826</th>\n",
       "      <td>827</td>\n",
       "      <td>0</td>\n",
       "      <td>3</td>\n",
       "      <td>Lam, Mr. Len</td>\n",
       "      <td>male</td>\n",
       "      <td>NaN</td>\n",
       "      <td>0</td>\n",
       "      <td>0</td>\n",
       "      <td>1601</td>\n",
       "      <td>56.4958</td>\n",
       "      <td>NaN</td>\n",
       "      <td>S</td>\n",
       "    </tr>\n",
       "    <tr>\n",
       "      <th>838</th>\n",
       "      <td>839</td>\n",
       "      <td>1</td>\n",
       "      <td>3</td>\n",
       "      <td>Chip, Mr. Chang</td>\n",
       "      <td>male</td>\n",
       "      <td>32.0</td>\n",
       "      <td>0</td>\n",
       "      <td>0</td>\n",
       "      <td>1601</td>\n",
       "      <td>56.4958</td>\n",
       "      <td>NaN</td>\n",
       "      <td>S</td>\n",
       "    </tr>\n",
       "  </tbody>\n",
       "</table>\n",
       "</div>"
      ],
      "text/plain": [
       "     PassengerId  Survived  Pclass             Name   Sex   Age  SibSp  Parch  \\\n",
       "74            75         1       3    Bing, Mr. Lee  male  32.0      0      0   \n",
       "169          170         0       3    Ling, Mr. Lee  male  28.0      0      0   \n",
       "509          510         1       3   Lang, Mr. Fang  male  26.0      0      0   \n",
       "643          644         1       3  Foo, Mr. Choong  male   NaN      0      0   \n",
       "692          693         1       3     Lam, Mr. Ali  male   NaN      0      0   \n",
       "826          827         0       3     Lam, Mr. Len  male   NaN      0      0   \n",
       "838          839         1       3  Chip, Mr. Chang  male  32.0      0      0   \n",
       "\n",
       "    Ticket     Fare Cabin Embarked  \n",
       "74    1601  56.4958   NaN        S  \n",
       "169   1601  56.4958   NaN        S  \n",
       "509   1601  56.4958   NaN        S  \n",
       "643   1601  56.4958   NaN        S  \n",
       "692   1601  56.4958   NaN        S  \n",
       "826   1601  56.4958   NaN        S  \n",
       "838   1601  56.4958   NaN        S  "
      ]
     },
     "execution_count": 563,
     "metadata": {},
     "output_type": "execute_result"
    }
   ],
   "source": [
    "data[data['Ticket'] == '1601']"
   ]
  },
  {
   "cell_type": "markdown",
   "metadata": {},
   "source": [
    "As we can see, they travel together but they aren't relative "
   ]
  },
  {
   "cell_type": "code",
   "execution_count": 564,
   "metadata": {},
   "outputs": [],
   "source": [
    "def create_title(data):\n",
    "    \n",
    "    ''' Function that create Title (Mr/Miss/Mrs/Master) from Name.\n",
    "    \n",
    "    Arguments:\n",
    "    data : dataset.\n",
    "    \n",
    "    Output: dataset with new columns Title with value (Mr/Miss/Mrs/Master).\n",
    "    \n",
    "    '''\n",
    "\n",
    "    data['Title'] = data[\"Name\"].apply(lambda x: x[x.find(',')+2: x.find('.')])\n",
    "    \n",
    "    data.loc[(~data['Title'].isin(['Miss', 'Mr', 'Mrs', 'Master'])) &\n",
    "             (data['Sex'] == 'male'), 'Title'\n",
    "            ] = 'Mr'\n",
    "    data.loc[(~data['Title'].isin(['Miss', 'Mr', 'Mrs', 'Master'])) &\n",
    "             (data['Sex'] == 'female'), 'Title'\n",
    "            ] = 'Miss'\n",
    "    \n",
    "    return data"
   ]
  },
  {
   "cell_type": "code",
   "execution_count": 565,
   "metadata": {},
   "outputs": [],
   "source": [
    "data = create_title(data)"
   ]
  },
  {
   "cell_type": "code",
   "execution_count": 566,
   "metadata": {},
   "outputs": [],
   "source": [
    "def create_number_accompany(data):\n",
    "    ''' Function extract number of accompany from ticket (people with the same ticket travel together)\n",
    "    \n",
    "    Arguments:\n",
    "        data : dataset\n",
    "    \n",
    "    Output: dataset with new columns\n",
    "        Number_accompany: number of people that travel with a passenger\n",
    "        is_accompany: True(travel with other passenger), False(Travel alone)\n",
    "    '''\n",
    "    \n",
    "    unique_ticket = list(data['Ticket'].unique())\n",
    "    \n",
    "    data['Ticket_index'] = \"\"\n",
    "    for i in unique_ticket:\n",
    "        data.loc[data['Ticket'] == i, 'Ticket_index'] = unique_ticket.index(i)\n",
    "\n",
    "    mapping = dict(data['Ticket_index'].value_counts())\n",
    "\n",
    "    data['Number_accompany'] = data['Ticket_index'].map(mapping) - 1\n",
    "    data['is_accompany'] = data['Number_accompany'] != 1\n",
    "    \n",
    "    return data"
   ]
  },
  {
   "cell_type": "code",
   "execution_count": 567,
   "metadata": {},
   "outputs": [],
   "source": [
    "data = create_number_accompany(data)"
   ]
  },
  {
   "cell_type": "code",
   "execution_count": 568,
   "metadata": {},
   "outputs": [
    {
     "data": {
      "text/plain": [
       "[Text(0.5, 1.0, 'Parch')]"
      ]
     },
     "execution_count": 568,
     "metadata": {},
     "output_type": "execute_result"
    },
    {
     "data": {
      "image/png": "[encoded data removed]",
      "text/plain": [
       "<Figure size 864x432 with 2 Axes>"
      ]
     },
     "metadata": {},
     "output_type": "display_data"
    }
   ],
   "source": [
    "fig , ax = plt.subplots(1,2, figsize = (12,6), sharey=False)\n",
    "\n",
    "sns.countplot(x='Title', data=data, ax=ax[0])\n",
    "ax[0].set(title = 'Barplot for Title')\n",
    "\n",
    "sns.swarmplot(x='Title', data=data, y='Age', hue='is_accompany',  ax=ax[1])\n",
    "ax[1].set(title = 'Parch')"
   ]
  },
  {
   "cell_type": "markdown",
   "metadata": {},
   "source": [
    "* There are some passenger with Age less than 14 that travel alone. They are too young for travel alone, maybe they travel with nanny, so I will set they travel with family.\n",
    "* There are a group that under 14 year olds, so I will set them to a group Children."
   ]
  },
  {
   "cell_type": "code",
   "execution_count": 569,
   "metadata": {},
   "outputs": [],
   "source": [
    "def extract_children(data):\n",
    "    ''' Extract Children from passenger with age lower than 14 and set them go with aldult if they travel alone\n",
    "    Argument:\n",
    "    data : dataset\n",
    "    Output: Tilte with new value (Mr/Miss/Mrs/Children)'''\n",
    "    \n",
    "    data.loc[data['Age'] < 14, 'Title'] = 'Children'\n",
    "    \n",
    "    # In case, age missing.\n",
    "    data.loc[data['Title'] == 'Master', 'Title'] = 'Children'\n",
    "    \n",
    "    # set children go with aldult\n",
    "    \n",
    "    data.loc[(data['Number_accompany'] == 1) & (data['Title'] == 'Children'), 'Number_accompany'] = 1\n",
    "    data.loc[(data['Number_accompany'] == 1) & (data['Title'] == 'Children'), 'is_accompany'] = True\n",
    "    \n",
    "    return data"
   ]
  },
  {
   "cell_type": "code",
   "execution_count": 570,
   "metadata": {},
   "outputs": [
    {
     "data": {
      "text/html": [
       "<div>\n",
       "<style scoped>\n",
       "    .dataframe tbody tr th:only-of-type {\n",
       "        vertical-align: middle;\n",
       "    }\n",
       "\n",
       "    .dataframe tbody tr th {\n",
       "        vertical-align: top;\n",
       "    }\n",
       "\n",
       "    .dataframe thead th {\n",
       "        text-align: right;\n",
       "    }\n",
       "</style>\n",
       "<table border=\"1\" class=\"dataframe\">\n",
       "  <thead>\n",
       "    <tr style=\"text-align: right;\">\n",
       "      <th></th>\n",
       "      <th>PassengerId</th>\n",
       "      <th>Survived</th>\n",
       "      <th>Pclass</th>\n",
       "      <th>Name</th>\n",
       "      <th>Sex</th>\n",
       "      <th>Age</th>\n",
       "      <th>SibSp</th>\n",
       "      <th>Parch</th>\n",
       "      <th>Ticket</th>\n",
       "      <th>Fare</th>\n",
       "      <th>Cabin</th>\n",
       "      <th>Embarked</th>\n",
       "      <th>Title</th>\n",
       "      <th>Ticket_index</th>\n",
       "      <th>Number_accompany</th>\n",
       "      <th>is_accompany</th>\n",
       "    </tr>\n",
       "  </thead>\n",
       "  <tbody>\n",
       "    <tr>\n",
       "      <th>7</th>\n",
       "      <td>8</td>\n",
       "      <td>0</td>\n",
       "      <td>3</td>\n",
       "      <td>Palsson, Master. Gosta Leonard</td>\n",
       "      <td>male</td>\n",
       "      <td>2.00</td>\n",
       "      <td>2</td>\n",
       "      <td>1</td>\n",
       "      <td>349909</td>\n",
       "      <td>21.0750</td>\n",
       "      <td>NaN</td>\n",
       "      <td>S</td>\n",
       "      <td>Children</td>\n",
       "      <td>7</td>\n",
       "      <td>3</td>\n",
       "      <td>True</td>\n",
       "    </tr>\n",
       "    <tr>\n",
       "      <th>10</th>\n",
       "      <td>11</td>\n",
       "      <td>1</td>\n",
       "      <td>3</td>\n",
       "      <td>Sandstrom, Miss. Marguerite Rut</td>\n",
       "      <td>female</td>\n",
       "      <td>4.00</td>\n",
       "      <td>1</td>\n",
       "      <td>1</td>\n",
       "      <td>PP 9549</td>\n",
       "      <td>16.7000</td>\n",
       "      <td>G6</td>\n",
       "      <td>S</td>\n",
       "      <td>Children</td>\n",
       "      <td>10</td>\n",
       "      <td>1</td>\n",
       "      <td>True</td>\n",
       "    </tr>\n",
       "    <tr>\n",
       "      <th>16</th>\n",
       "      <td>17</td>\n",
       "      <td>0</td>\n",
       "      <td>3</td>\n",
       "      <td>Rice, Master. Eugene</td>\n",
       "      <td>male</td>\n",
       "      <td>2.00</td>\n",
       "      <td>2</td>\n",
       "      <td>1</td>\n",
       "      <td>382652</td>\n",
       "      <td>29.1250</td>\n",
       "      <td>NaN</td>\n",
       "      <td>Q</td>\n",
       "      <td>Children</td>\n",
       "      <td>16</td>\n",
       "      <td>4</td>\n",
       "      <td>True</td>\n",
       "    </tr>\n",
       "    <tr>\n",
       "      <th>24</th>\n",
       "      <td>25</td>\n",
       "      <td>0</td>\n",
       "      <td>3</td>\n",
       "      <td>Palsson, Miss. Torborg Danira</td>\n",
       "      <td>female</td>\n",
       "      <td>8.00</td>\n",
       "      <td>2</td>\n",
       "      <td>1</td>\n",
       "      <td>349909</td>\n",
       "      <td>21.0750</td>\n",
       "      <td>NaN</td>\n",
       "      <td>S</td>\n",
       "      <td>Children</td>\n",
       "      <td>7</td>\n",
       "      <td>3</td>\n",
       "      <td>True</td>\n",
       "    </tr>\n",
       "    <tr>\n",
       "      <th>43</th>\n",
       "      <td>44</td>\n",
       "      <td>1</td>\n",
       "      <td>2</td>\n",
       "      <td>Laroche, Miss. Simonne Marie Anne Andree</td>\n",
       "      <td>female</td>\n",
       "      <td>3.00</td>\n",
       "      <td>1</td>\n",
       "      <td>2</td>\n",
       "      <td>SC/Paris 2123</td>\n",
       "      <td>41.5792</td>\n",
       "      <td>NaN</td>\n",
       "      <td>C</td>\n",
       "      <td>Children</td>\n",
       "      <td>42</td>\n",
       "      <td>2</td>\n",
       "      <td>True</td>\n",
       "    </tr>\n",
       "    <tr>\n",
       "      <th>...</th>\n",
       "      <td>...</td>\n",
       "      <td>...</td>\n",
       "      <td>...</td>\n",
       "      <td>...</td>\n",
       "      <td>...</td>\n",
       "      <td>...</td>\n",
       "      <td>...</td>\n",
       "      <td>...</td>\n",
       "      <td>...</td>\n",
       "      <td>...</td>\n",
       "      <td>...</td>\n",
       "      <td>...</td>\n",
       "      <td>...</td>\n",
       "      <td>...</td>\n",
       "      <td>...</td>\n",
       "      <td>...</td>\n",
       "    </tr>\n",
       "    <tr>\n",
       "      <th>827</th>\n",
       "      <td>828</td>\n",
       "      <td>1</td>\n",
       "      <td>2</td>\n",
       "      <td>Mallet, Master. Andre</td>\n",
       "      <td>male</td>\n",
       "      <td>1.00</td>\n",
       "      <td>0</td>\n",
       "      <td>2</td>\n",
       "      <td>S.C./PARIS 2079</td>\n",
       "      <td>37.0042</td>\n",
       "      <td>NaN</td>\n",
       "      <td>C</td>\n",
       "      <td>Children</td>\n",
       "      <td>636</td>\n",
       "      <td>1</td>\n",
       "      <td>True</td>\n",
       "    </tr>\n",
       "    <tr>\n",
       "      <th>831</th>\n",
       "      <td>832</td>\n",
       "      <td>1</td>\n",
       "      <td>2</td>\n",
       "      <td>Richards, Master. George Sibley</td>\n",
       "      <td>male</td>\n",
       "      <td>0.83</td>\n",
       "      <td>1</td>\n",
       "      <td>1</td>\n",
       "      <td>29106</td>\n",
       "      <td>18.7500</td>\n",
       "      <td>NaN</td>\n",
       "      <td>S</td>\n",
       "      <td>Children</td>\n",
       "      <td>348</td>\n",
       "      <td>2</td>\n",
       "      <td>True</td>\n",
       "    </tr>\n",
       "    <tr>\n",
       "      <th>850</th>\n",
       "      <td>851</td>\n",
       "      <td>0</td>\n",
       "      <td>3</td>\n",
       "      <td>Andersson, Master. Sigvard Harald Elias</td>\n",
       "      <td>male</td>\n",
       "      <td>4.00</td>\n",
       "      <td>2</td>\n",
       "      <td>2</td>\n",
       "      <td>347082</td>\n",
       "      <td>31.2750</td>\n",
       "      <td>NaN</td>\n",
       "      <td>S</td>\n",
       "      <td>Children</td>\n",
       "      <td>13</td>\n",
       "      <td>6</td>\n",
       "      <td>True</td>\n",
       "    </tr>\n",
       "    <tr>\n",
       "      <th>852</th>\n",
       "      <td>853</td>\n",
       "      <td>0</td>\n",
       "      <td>3</td>\n",
       "      <td>Boulos, Miss. Nourelain</td>\n",
       "      <td>female</td>\n",
       "      <td>9.00</td>\n",
       "      <td>1</td>\n",
       "      <td>1</td>\n",
       "      <td>2678</td>\n",
       "      <td>15.2458</td>\n",
       "      <td>NaN</td>\n",
       "      <td>C</td>\n",
       "      <td>Children</td>\n",
       "      <td>130</td>\n",
       "      <td>1</td>\n",
       "      <td>True</td>\n",
       "    </tr>\n",
       "    <tr>\n",
       "      <th>869</th>\n",
       "      <td>870</td>\n",
       "      <td>1</td>\n",
       "      <td>3</td>\n",
       "      <td>Johnson, Master. Harold Theodor</td>\n",
       "      <td>male</td>\n",
       "      <td>4.00</td>\n",
       "      <td>1</td>\n",
       "      <td>1</td>\n",
       "      <td>347742</td>\n",
       "      <td>11.1333</td>\n",
       "      <td>NaN</td>\n",
       "      <td>S</td>\n",
       "      <td>Children</td>\n",
       "      <td>8</td>\n",
       "      <td>2</td>\n",
       "      <td>True</td>\n",
       "    </tr>\n",
       "  </tbody>\n",
       "</table>\n",
       "<p>75 rows × 16 columns</p>\n",
       "</div>"
      ],
      "text/plain": [
       "     PassengerId  Survived  Pclass                                      Name  \\\n",
       "7              8         0       3            Palsson, Master. Gosta Leonard   \n",
       "10            11         1       3           Sandstrom, Miss. Marguerite Rut   \n",
       "16            17         0       3                      Rice, Master. Eugene   \n",
       "24            25         0       3             Palsson, Miss. Torborg Danira   \n",
       "43            44         1       2  Laroche, Miss. Simonne Marie Anne Andree   \n",
       "..           ...       ...     ...                                       ...   \n",
       "827          828         1       2                     Mallet, Master. Andre   \n",
       "831          832         1       2           Richards, Master. George Sibley   \n",
       "850          851         0       3   Andersson, Master. Sigvard Harald Elias   \n",
       "852          853         0       3                   Boulos, Miss. Nourelain   \n",
       "869          870         1       3           Johnson, Master. Harold Theodor   \n",
       "\n",
       "        Sex   Age  SibSp  Parch           Ticket     Fare Cabin Embarked  \\\n",
       "7      male  2.00      2      1           349909  21.0750   NaN        S   \n",
       "10   female  4.00      1      1          PP 9549  16.7000    G6        S   \n",
       "16     male  2.00      2      1           382652  29.1250   NaN        Q   \n",
       "24   female  8.00      2      1           349909  21.0750   NaN        S   \n",
       "43   female  3.00      1      2    SC/Paris 2123  41.5792   NaN        C   \n",
       "..      ...   ...    ...    ...              ...      ...   ...      ...   \n",
       "827    male  1.00      0      2  S.C./PARIS 2079  37.0042   NaN        C   \n",
       "831    male  0.83      1      1            29106  18.7500   NaN        S   \n",
       "850    male  4.00      2      2           347082  31.2750   NaN        S   \n",
       "852  female  9.00      1      1             2678  15.2458   NaN        C   \n",
       "869    male  4.00      1      1           347742  11.1333   NaN        S   \n",
       "\n",
       "        Title  Ticket_index  Number_accompany  is_accompany  \n",
       "7    Children             7                 3          True  \n",
       "10   Children            10                 1          True  \n",
       "16   Children            16                 4          True  \n",
       "24   Children             7                 3          True  \n",
       "43   Children            42                 2          True  \n",
       "..        ...           ...               ...           ...  \n",
       "827  Children           636                 1          True  \n",
       "831  Children           348                 2          True  \n",
       "850  Children            13                 6          True  \n",
       "852  Children           130                 1          True  \n",
       "869  Children             8                 2          True  \n",
       "\n",
       "[75 rows x 16 columns]"
      ]
     },
     "execution_count": 570,
     "metadata": {},
     "output_type": "execute_result"
    }
   ],
   "source": [
    "data = extract_children(data)\n",
    "data[data['Title'] == 'Children']"
   ]
  },
  {
   "cell_type": "code",
   "execution_count": 571,
   "metadata": {},
   "outputs": [
    {
     "data": {
      "text/plain": [
       "<matplotlib.axes._subplots.AxesSubplot at 0x21f0d7da978>"
      ]
     },
     "execution_count": 571,
     "metadata": {},
     "output_type": "execute_result"
    },
    {
     "data": {
      "image/png": "[encoded data removed]",
      "text/plain": [
       "<Figure size 432x288 with 1 Axes>"
      ]
     },
     "metadata": {},
     "output_type": "display_data"
    }
   ],
   "source": [
    "sns.countplot(x='Number_accompany', data=data, hue='Survived')"
   ]
  },
  {
   "cell_type": "code",
   "execution_count": 572,
   "metadata": {},
   "outputs": [],
   "source": [
    "def combine_number_accompany(data):\n",
    "    '''Combine value 3,4,5,6 of Number_accompany into a category\n",
    "    Argument:\n",
    "    data : dataset\n",
    "    Output: Number_accompany with value (0,1,2,3)'''\n",
    "\n",
    "    \n",
    "    data.loc[data['Number_accompany'] > 2, 'Number_accompany'] = 3\n",
    "    \n",
    "    return data"
   ]
  },
  {
   "cell_type": "markdown",
   "metadata": {},
   "source": [
    "We can combine value 4,5,6 of Number_accompany into a category."
   ]
  },
  {
   "cell_type": "code",
   "execution_count": 573,
   "metadata": {},
   "outputs": [],
   "source": [
    "data = combine_number_accompany(data)"
   ]
  },
  {
   "cell_type": "code",
   "execution_count": 574,
   "metadata": {},
   "outputs": [
    {
     "data": {
      "text/plain": [
       "<matplotlib.axes._subplots.AxesSubplot at 0x21f0f40b198>"
      ]
     },
     "execution_count": 574,
     "metadata": {},
     "output_type": "execute_result"
    },
    {
     "data": {
      "image/png": "[encoded data removed]",
      "text/plain": [
       "<Figure size 1152x432 with 3 Axes>"
      ]
     },
     "metadata": {},
     "output_type": "display_data"
    }
   ],
   "source": [
    "fig, ax = plt.subplots(1,3, figsize = (16,6), sharey = True)\n",
    "\n",
    "sns.countplot(x='Number_accompany', data=data, hue='Survived', ax = ax[0])\n",
    "sns.countplot(x='SibSp', data=data, hue='Survived', ax = ax[1])\n",
    "sns.countplot(x='Parch', data=data, hue='Survived', ax = ax[2])"
   ]
  },
  {
   "cell_type": "markdown",
   "metadata": {},
   "source": [
    "The probabiliy of surviving when travel alone is higher comparing with traveling with accompanies."
   ]
  },
  {
   "cell_type": "markdown",
   "metadata": {},
   "source": [
    "**FINAL CONCLUSION**\n",
    "* Split Age variable into 4 interval (0:13),(13:30),(30:40),(40:80)\n",
    "* Split Fare variable into (0:16),(16:30),(30:90),(90:max)\n",
    "* Combine 3,4,5 into 1 category for SibSp\n",
    "* Combine 4,5,6 into 1 category for Parch\n",
    "* Replace Missing value in Embarked with S\n",
    "* Extract title and number_accompany. Then combine value 5,6,7 of Number_accompany into one category."
   ]
  },
  {
   "cell_type": "markdown",
   "metadata": {},
   "source": [
    "# 3. Handle Missing Values"
   ]
  },
  {
   "cell_type": "markdown",
   "metadata": {},
   "source": [
    "There are a lot of missing value in Cabin variable. So I will drop this variable."
   ]
  },
  {
   "cell_type": "code",
   "execution_count": 575,
   "metadata": {},
   "outputs": [
    {
     "data": {
      "text/plain": [
       "Text(0.5, 1.0, 'Boxplot of Pclass')"
      ]
     },
     "execution_count": 575,
     "metadata": {},
     "output_type": "execute_result"
    },
    {
     "data": {
      "image/png": "[encoded data removed]",
      "text/plain": [
       "<Figure size 360x360 with 1 Axes>"
      ]
     },
     "metadata": {},
     "output_type": "display_data"
    }
   ],
   "source": [
    "sns.catplot(x='Pclass', y ='Fare', data=data[data['Fare'] !=0], kind='box')\n",
    "plt.title(\"Boxplot of Pclass\")"
   ]
  },
  {
   "cell_type": "markdown",
   "metadata": {},
   "source": [
    "**Conclution:** replace Fare missing value by median base on each class."
   ]
  },
  {
   "cell_type": "code",
   "execution_count": 576,
   "metadata": {
    "scrolled": true
   },
   "outputs": [
    {
     "data": {
      "text/plain": [
       "Text(0.5, 1.0, 'Boxplot of Age base on is_accompany')"
      ]
     },
     "execution_count": 576,
     "metadata": {},
     "output_type": "execute_result"
    },
    {
     "data": {
      "image/png": "[encoded data removed]",
      "text/plain": [
       "<Figure size 434.05x360 with 1 Axes>"
      ]
     },
     "metadata": {},
     "output_type": "display_data"
    }
   ],
   "source": [
    "sns.catplot(y='Age', x='Title', data=data[~data['Age'].isnull()], hue='is_accompany', kind='box')\n",
    "plt.title('Boxplot of Age base on is_accompany')"
   ]
  },
  {
   "cell_type": "markdown",
   "metadata": {},
   "source": [
    "**Conclusion**\n",
    "* Age's distribution of Mr, Mrs is quite similar\n",
    "* Age's distribution of Miss, Master is different. So that we will replace missing value of Age's missing values by median of title group by is_accompany"
   ]
  },
  {
   "cell_type": "markdown",
   "metadata": {},
   "source": [
    "**FINAL CONCLUSION**\n",
    "* Replace Embarked missing value with S.\n",
    "* Replace Fare missing value by median of each class.\n",
    "* Replace Age missing value by median of each title group by is_accompany.\n",
    "* Drop Cabin variable."
   ]
  },
  {
   "cell_type": "code",
   "execution_count": 577,
   "metadata": {},
   "outputs": [],
   "source": [
    "def missing_handle(data):\n",
    "    '''Function handle missing value of Fare and Age variable.\n",
    "       For Embarked variable: replace missing value with S.\n",
    "       For Fare variable: replace missing value with fare median of each Pclass.\n",
    "       For Age variable: replace missing value with age median of each Title.\n",
    "    \n",
    "    Arguments:\n",
    "        data : dataset\n",
    "        Output : dataset replaced missing value.'''\n",
    "    \n",
    "    # replace missing Embarked with S\n",
    "    \n",
    "    data.loc[(data['Embarked']).isnull(), 'Embarked'] = 'S'\n",
    "    # replace missing fare with median\n",
    "    \n",
    "   \n",
    "    data.loc[(data['Fare'] == 0) & \n",
    "             (data['Pclass'] == 1), 'Fare'] = np.median(data.loc[(data['Pclass']==1) & \n",
    "                                                                 (data['Fare'] != 0), 'Fare'])\n",
    "    \n",
    "    data.loc[(data['Fare'] == 0) & \n",
    "             (data['Pclass'] == 2), 'Fare'] = np.median(data.loc[(data['Pclass']==2) & \n",
    "                                                                 (data['Fare'] != 0), 'Fare'])\n",
    "    \n",
    "    data.loc[(data['Fare'] == 0) & \n",
    "             (data['Pclass'] == 3), 'Fare'] = np.median(data.loc[(data['Pclass']==3) & \n",
    "                                                                 (data['Fare'] != 0), 'Fare'])\n",
    "    \n",
    "    \n",
    "    # replace missing age with median   \n",
    "    mapping_age = {'Mr'         : np.median(data.loc[(data['Title'] == 'Mr') & \n",
    "                                                     (~data['Age'].isnull()), 'Age']),\n",
    "                   'Mrs'        : np.median(data.loc[(data['Title'] == 'Mrs') & \n",
    "                                                     (~data['Age'].isnull()), 'Age']),\n",
    "                   'Miss'       : np.median(data.loc[(data['Title'] == 'Miss') & \n",
    "                                                     (~data['Age'].isnull()), 'Age']),\n",
    "                   'Childern':      np.median(data.loc[(data['Title'] == 'Children') & \n",
    "                                                     (~data['Age'].isnull()), 'Age'])\n",
    "                  }\n",
    "    data.loc[(data['Age'].isnull()) &\n",
    "             (data['Title'] == 'Mr'), 'Age'] = np.median(data.loc[(data['Title'] == 'Mr') & \n",
    "                                                                  (~data['Age'].isnull()), 'Age'])\n",
    "    data.loc[(data['Age'].isnull()) &\n",
    "             (data['Title'] == 'Mrs'), 'Age'] = np.median(data.loc[(data['Title'] == 'Mrs') & \n",
    "                                                                  (~data['Age'].isnull()), 'Age'])\n",
    "    data.loc[(data['Age'].isnull()) &\n",
    "             (data['Title'] == 'Miss'), 'Age'] = np.median(data.loc[(data['Title'] == 'Miss') & \n",
    "                                                                  (~data['Age'].isnull()), 'Age'])\n",
    "    data.loc[(data['Age'].isnull()) &\n",
    "             (data['Title'] == 'Children'), 'Age'] = np.median(data.loc[(data['Title'] == 'Children') & \n",
    "                                                                  (~data['Age'].isnull()), 'Age'])    \n",
    "    \n",
    "    return data"
   ]
  },
  {
   "cell_type": "markdown",
   "metadata": {},
   "source": [
    "# 4. Build Pipeline"
   ]
  },
  {
   "cell_type": "code",
   "execution_count": 578,
   "metadata": {},
   "outputs": [],
   "source": [
    "class SelectFeature():\n",
    "    '''Select columns using for train in the pipeline'''\n",
    "    \n",
    "    def __init__(self, columns=None):\n",
    "        self.columns = columns\n",
    "    def fit(self, X, y=None):\n",
    "        return self\n",
    "    def transform(self, X, y=None):\n",
    "        return X[self.columns] "
   ]
  },
  {
   "cell_type": "code",
   "execution_count": 612,
   "metadata": {},
   "outputs": [],
   "source": [
    "data = pd.read_csv('C:\\\\Users\\\\Admin\\\\Desktop\\\\titanic\\\\train.csv')"
   ]
  },
  {
   "cell_type": "code",
   "execution_count": 613,
   "metadata": {},
   "outputs": [],
   "source": [
    "# FunctionTransformer for data pipeline\n",
    "get_create_title = FunctionTransformer(create_title)\n",
    "get_number_accompany = FunctionTransformer(create_number_accompany)\n",
    "get_extract_children = FunctionTransformer(extract_children)\n",
    "fill_missing = FunctionTransformer(missing_handle)\n",
    "\n",
    "get_combine_age = FunctionTransformer(combine_age)\n",
    "get_combine_fare = FunctionTransformer(combine_fare)\n",
    "get_combine_SibSp_Parch = FunctionTransformer(combine_SibSp_Parch)\n",
    "\n",
    "get_combine_number_accompany = FunctionTransformer(combine_number_accompany)\n",
    "\n",
    "fill_missing = FunctionTransformer(missing_handle)"
   ]
  },
  {
   "cell_type": "code",
   "execution_count": 614,
   "metadata": {},
   "outputs": [],
   "source": [
    "# Split data into train, test set.\n",
    "predict_feature = data['Survived']\n",
    "train_feature = data.drop('Survived', axis=1)\n",
    "x_train, x_test, y_train, y_test = train_test_split(train_feature, predict_feature, test_size = 0.2, random_state=12)"
   ]
  },
  {
   "cell_type": "code",
   "execution_count": 615,
   "metadata": {
    "scrolled": true
   },
   "outputs": [
    {
     "data": {
      "text/plain": [
       "Pipeline(memory=None,\n",
       "         steps=[('create title',\n",
       "                 FunctionTransformer(accept_sparse=False, check_inverse=True,\n",
       "                                     func=<function create_title at 0x0000021F0E00CEA0>,\n",
       "                                     inv_kw_args=None, inverse_func=None,\n",
       "                                     kw_args=None, validate=False)),\n",
       "                ('create number accompany',\n",
       "                 FunctionTransformer(accept_sparse=False, check_inverse=True,\n",
       "                                     func=<function create_number_accompany at 0x0000021F0E...\n",
       "                 XGBClassifier(alpha=10, base_score=0.5, booster='gbtree',\n",
       "                               colsample_bylevel=1, colsample_bynode=1,\n",
       "                               colsample_bytree=0.3, gamma=0, learning_rate=0.1,\n",
       "                               max_delta_step=0, max_depth=5,\n",
       "                               min_child_weight=1, missing=None,\n",
       "                               n_estimators=10, n_jobs=1, nthread=None,\n",
       "                               objective='binary:logistic', random_state=0,\n",
       "                               reg_alpha=0, reg_lambda=1, scale_pos_weight=1,\n",
       "                               seed=None, silent=None, subsample=1,\n",
       "                               verbosity=1))],\n",
       "         verbose=False)"
      ]
     },
     "execution_count": 615,
     "metadata": {},
     "output_type": "execute_result"
    }
   ],
   "source": [
    "# creat the first pipeline\n",
    "step = [('create title', get_create_title),\n",
    "        ('create number accompany', get_number_accompany),\n",
    "        ('extract children', get_extract_children),\n",
    "        ('fill missing', fill_missing),\n",
    "        ('combine_age', get_combine_age),\n",
    "        ('combine_fare', get_combine_fare),\n",
    "        ('combine_SibSp_Parch', get_combine_SibSp_Parch),\n",
    "        ('combine_number_accompany', get_combine_number_accompany),\n",
    "        ('select feature', SelectFeature(['Age', 'Number_accompany', 'Title', 'Pclass', 'Fare'])),\n",
    "        ('ohe', ColumnTransformer([('ohe1', OneHotEncoder(), ['Title'])])),\n",
    "        ('predict', xgb.XGBClassifier(objective = 'binary:logistic', colsample_bytree = 0.3,\n",
    "                                                         learning_rate = 0.1, max_depth=5, alpha = 10, n_estimators = 10))\n",
    "        ]\n",
    "\n",
    "pipeline = Pipeline(step)\n",
    "pipeline.fit(x_train, y_train)"
   ]
  },
  {
   "cell_type": "code",
   "execution_count": 616,
   "metadata": {},
   "outputs": [],
   "source": [
    "y_pred = pipeline.predict(x_test)"
   ]
  },
  {
   "cell_type": "code",
   "execution_count": 617,
   "metadata": {},
   "outputs": [],
   "source": [
    "def summarize_classification(y_test, y_pred):\n",
    "    '''This function return accuracy, precision, recall of a model'''\n",
    "    acc = accuracy_score(y_test, y_pred, normalize=True)\n",
    "    num_acc = accuracy_score(y_test, y_pred, normalize=False)\n",
    "    \n",
    "    prec = precision_score(y_test, y_pred)\n",
    "    recall = recall_score(y_test, y_pred)\n",
    "    \n",
    "    return {'accuracy': acc,\n",
    "            'precision': prec,\n",
    "            'recall': recall,\n",
    "            'accuracy_count': num_acc}"
   ]
  },
  {
   "cell_type": "code",
   "execution_count": 618,
   "metadata": {},
   "outputs": [
    {
     "data": {
      "text/plain": [
       "{'accuracy': 0.7541899441340782,\n",
       " 'precision': 0.7108433734939759,\n",
       " 'recall': 0.7468354430379747,\n",
       " 'accuracy_count': 135}"
      ]
     },
     "execution_count": 618,
     "metadata": {},
     "output_type": "execute_result"
    }
   ],
   "source": [
    "test_scores = summarize_classification(y_test, y_pred)\n",
    "test_scores"
   ]
  },
  {
   "cell_type": "code",
   "execution_count": 619,
   "metadata": {},
   "outputs": [],
   "source": [
    "unseen_data = pd.read_csv('C:\\\\Users\\\\Admin\\\\Desktop\\\\titanic\\\\test.csv')"
   ]
  },
  {
   "cell_type": "code",
   "execution_count": 620,
   "metadata": {},
   "outputs": [],
   "source": [
    "submission = pd.read_csv('C:\\\\Users\\\\Admin\\\\Desktop\\\\titanic\\\\gender_submission.csv')"
   ]
  },
  {
   "cell_type": "code",
   "execution_count": 621,
   "metadata": {},
   "outputs": [],
   "source": [
    "submission['Survived'] = pipeline.predict(unseen_data)\n",
    "submission.set_index('PassengerId')\n",
    "submission.to_csv('C:\\\\Users\\\\Admin\\\\Desktop\\\\titanic\\\\gender_submission1.csv', index=False)"
   ]
  },
  {
   "cell_type": "code",
   "execution_count": null,
   "metadata": {},
   "outputs": [],
   "source": []
  }
 ],
 "metadata": {
  "kernelspec": {
   "display_name": "Python 3",
   "language": "python",
   "name": "python3"
  },
  "language_info": {
   "codemirror_mode": {
    "name": "ipython",
    "version": 3
   },
   "file_extension": ".py",
   "mimetype": "text/x-python",
   "name": "python",
   "nbconvert_exporter": "python",
   "pygments_lexer": "ipython3",
   "version": "3.7.1"
  }
 },
 "nbformat": 4,
 "nbformat_minor": 2
}
